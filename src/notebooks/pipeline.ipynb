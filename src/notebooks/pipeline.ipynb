{
  "cells": [
    {
      "cell_type": "code",
      "execution_count": null,
      "metadata": {
        "id": "cctyAIZ9EaCk"
      },
      "outputs": [],
      "source": [
        "import warnings\n",
        "warnings.filterwarnings('ignore')"
      ]
    },
    {
      "cell_type": "markdown",
      "metadata": {
        "id": "jbJLi-w_hqUA"
      },
      "source": [
        "## Data loading"
      ]
    },
    {
      "cell_type": "code",
      "execution_count": null,
      "metadata": {
        "id": "pdKCmtDILPei"
      },
      "outputs": [],
      "source": [
        "import pandas as pd\n",
        "import numpy as np\n",
        "\n",
        "DATA_PATH = '/content/drive/MyDrive/work/Цифровой прорыв/data/'\n",
        "DATASET = DATA_PATH+'covid_data_train.csv'\n",
        "df = pd.read_csv(DATASET)"
      ]
    },
    {
      "cell_type": "markdown",
      "source": [
        "## Drop bad values"
      ],
      "metadata": {
        "id": "rUuNHWrwVGTt"
      }
    },
    {
      "cell_type": "code",
      "execution_count": null,
      "metadata": {
        "id": "HSeuQg9Cj5Ea"
      },
      "outputs": [],
      "source": [
        "df = df[df['inf_rate'].notnull()]"
      ]
    },
    {
      "cell_type": "code",
      "source": [
        "df.drop([362, 363, 364], inplace=True)\n",
        "df.drop([40, 39, 38], inplace=True)\n",
        "df.drop([372, 371, 370], inplace=True)\n",
        "df.drop([283, 282, 281], inplace=True)\n",
        "df.drop([120, 119, 118], inplace=True)\n",
        "df.drop([243, 242, 241], inplace=True)\n",
        "df.drop([68], inplace=True)\n",
        "df.drop([230], inplace=True)"
      ],
      "metadata": {
        "id": "map_7v2BHV9i"
      },
      "execution_count": null,
      "outputs": []
    },
    {
      "cell_type": "markdown",
      "source": [
        "## Fillna and Normalize"
      ],
      "metadata": {
        "id": "NOHlFVS_N9ki"
      }
    },
    {
      "cell_type": "code",
      "source": [
        "fillna_zero_cols_list = ['ivl_per_100k',\n",
        " 'ivl_number',\n",
        " 'ekmo_per_100k',\n",
        " 'ekmo_number',\n",
        " 'epirank_avia',\n",
        " 'epirank_bus',\n",
        " 'epirank_train',\n",
        " 'epirank_avia_cat',\n",
        " 'epirank_bus_cat',\n",
        " 'epirank_train_cat']\n",
        "\n",
        "\n",
        "fillna_median_cols_list = ['num_patients_tubercul_1992',\n",
        " 'num_patients_tubercul_1993',\n",
        " 'num_patients_tubercul_1994',\n",
        " 'num_patients_tubercul_1995',\n",
        " 'num_patients_tubercul_1996',\n",
        " 'num_patients_tubercul_1997',\n",
        " 'num_patients_tubercul_1998',\n",
        " 'num_patients_tubercul_1999',\n",
        " 'num_patients_tubercul_2000',\n",
        " 'num_patients_tubercul_2001',\n",
        " 'num_patients_tubercul_2002',\n",
        " 'num_patients_tubercul_2003',\n",
        " 'num_patients_tubercul_2004',\n",
        " 'num_patients_tubercul_2005',\n",
        " 'num_patients_tubercul_2006',\n",
        " 'num_patients_tubercul_2007',\n",
        " 'num_patients_tubercul_2008',\n",
        " 'num_patients_tubercul_2009',\n",
        " 'num_patients_tubercul_2010',\n",
        " 'num_patients_tubercul_2011',\n",
        " 'num_patients_tubercul_2012',\n",
        " 'num_patients_tubercul_2013',\n",
        " 'num_patients_tubercul_2014',\n",
        " 'num_patients_tubercul_2015',\n",
        " 'num_patients_tubercul_2016',\n",
        " 'num_patients_tubercul_2017',\n",
        " 'cleanness',\n",
        " 'public_services',\n",
        " 'neighbourhood',\n",
        " 'children_places',\n",
        " 'sport_and_outdoor',\n",
        " 'shops_and_malls',\n",
        " 'public_transport',\n",
        " 'security',\n",
        " 'life_costs',\n",
        " 'life_quality_place_rating',\n",
        " 'ecology']\n",
        "\n",
        "trash_cols_list = [\"subject\", \"has_metro\"]"
      ],
      "metadata": {
        "id": "sZvBbmKxN9Un"
      },
      "execution_count": null,
      "outputs": []
    },
    {
      "cell_type": "code",
      "source": [
        "def clean_df(df, fillna_zero_cols_list, fillna_median_cols_list, trash_cols_list):\n",
        "\n",
        "\n",
        "    for col in fillna_zero_cols_list:\n",
        "        df[col] = df[col].fillna(0)\n",
        "    \n",
        "    for col in fillna_median_cols_list :#+ fillna_zero_cols_list:\n",
        "        df[col] = df[col].fillna(df[col].median())\n",
        "\n",
        "    #убираем trash_cols\n",
        "    df = df.drop(columns=trash_cols_list)\n",
        "\n",
        "    return df"
      ],
      "metadata": {
        "id": "yTAaQ9OUYRpE"
      },
      "execution_count": null,
      "outputs": []
    },
    {
      "cell_type": "code",
      "source": [
        "df = clean_df(df, fillna_zero_cols_list, fillna_median_cols_list,trash_cols_list)"
      ],
      "metadata": {
        "id": "wrQaa-cSZMA2"
      },
      "execution_count": null,
      "outputs": []
    },
    {
      "cell_type": "markdown",
      "source": [
        "## Load test"
      ],
      "metadata": {
        "id": "NF1coWKXvuod"
      }
    },
    {
      "cell_type": "code",
      "source": [
        "DATA_PATH = '/content/drive/MyDrive/work/Цифровой прорыв/data/'\n",
        "DATASET = DATA_PATH+'covid_data_test.csv'\n",
        "df_test = pd.read_csv(DATASET)\n",
        "\n",
        "df_test = clean_df(df_test, fillna_zero_cols_list, fillna_median_cols_list,trash_cols_list)"
      ],
      "metadata": {
        "id": "Vk6q32gVvwxo"
      },
      "execution_count": null,
      "outputs": []
    },
    {
      "cell_type": "markdown",
      "metadata": {
        "id": "O6OUbRv1Xf3a"
      },
      "source": [
        "## Features grupping  \n"
      ]
    },
    {
      "cell_type": "code",
      "execution_count": null,
      "metadata": {
        "id": "rNZZl-YDiSsJ"
      },
      "outputs": [],
      "source": [
        "TARGET = ['inf_rate']\n",
        "TARGET_COL = 'inf_rate'\n",
        "\n",
        "# Float features\n",
        "LAT_LNG = ['lat', 'lng']\n",
        "URBAN_RURAL = ['urban', 'rural'] # количество городских и сельских жителей\n",
        "HAS_METRO = ['has_metro']\n",
        "POPULATION = ['population', 'whole_population']\n",
        "DENSITY = ['density'] # Плотность населения  \n",
        "RATINGS = ['cleanness', 'public_services', 'neighbourhood', 'children_places', 'sport_and_outdoor', \n",
        "           'shops_and_malls', 'public_transport', 'security', 'life_costs'] # Рейтинги \n",
        "VENTILATOR = ['ivl_per_100k', 'ivl_number', 'ekmo_per_100k', 'ekmo_number'] # ИВЛ\n",
        "WEATHER = [ 'avg_temp_min', 'avg_temp_max', 'avg_temp_std', 'avg_temp_median', 'humidity_min', \n",
        "           'humidity_max', 'humidity_std', 'humidity_median', 'pressure_min', 'pressure_max',\n",
        "           'pressure_std', 'pressure_median', 'wind_speed_ms_min', 'wind_speed_ms_max',\n",
        "           'wind_speed_ms_std', 'wind_speed_ms_median'] # Погода\n",
        "RESIDENTS_AGE = ['urban_50-54_years', 'urban_55-59_years', 'urban_60-64_years', 'urban_65-69_years',\n",
        "                 'urban_70-74_years', 'urban_75-79_years', 'urban_80-84_years', 'urban_85-89_years', \n",
        "                 'urban_90-94_years', 'rural_50-54_years', 'rural_55-59_years', 'rural_60-64_years',\n",
        "                 'rural_65-69_years', 'rural_70-74_years', 'rural_75-79_years', 'rural_80-84_years',\n",
        "                 'rural_85-89_years', 'rural_90-94_years'] # Количество жителей по возрастам \n",
        "POPULATION_WORK = ['work_ratio_15-72_years', 'work_ratio_55-64_years', 'work_ratio_15-24_years', \n",
        "                   'work_ratio_15-64_years', 'work_ratio_25-54_years',] # Занятость населения по возрастам\n",
        "HISTORICAL_TUBERCUL = [ 'num_patients_tubercul_1992', 'num_patients_tubercul_1993', 'num_patients_tubercul_1994', \n",
        "                       'num_patients_tubercul_1995', 'num_patients_tubercul_1996', 'num_patients_tubercul_1997', \n",
        "                       'num_patients_tubercul_1998', 'num_patients_tubercul_1999', 'num_patients_tubercul_2000', \n",
        "                       'num_patients_tubercul_2001', 'num_patients_tubercul_2002', 'num_patients_tubercul_2003', \n",
        "                       'num_patients_tubercul_2004', 'num_patients_tubercul_2005', 'num_patients_tubercul_2006', \n",
        "                       'num_patients_tubercul_2007', 'num_patients_tubercul_2008', 'num_patients_tubercul_2009', \n",
        "                       'num_patients_tubercul_2010', 'num_patients_tubercul_2011', 'num_patients_tubercul_2012', \n",
        "                       'num_patients_tubercul_2013', 'num_patients_tubercul_2014', 'num_patients_tubercul_2015', \n",
        "                       'num_patients_tubercul_2016', 'num_patients_tubercul_2017']  # Тубик\n",
        "ECONOMIC_VALUE = ['volume_serv_household_2017', 'volume_serv_chargeable_2017', 'volume_serv_transport_2017',\n",
        "                  'volume_serv_post_2017', 'volume_serv_accommodation_2017', 'volume_serv_telecom_2017', \n",
        "                  'volume_serv_others_2017', 'volume_serv_veterinary_2017', 'volume_serv_housing_2017', \n",
        "                  'volume_serv_education_2017', 'volume_serv_medicine_2017', 'volume_serv_disabled_2017', \n",
        "                  'volume_serv_culture_2017', 'volume_serv_sport_2017', 'volume_serv_hotels_2017', \n",
        "                  'volume_serv_tourism_2017', 'volume_serv_sanatorium_2017']  # Экономическая активность\n",
        "NUM_PHONES = ['num_phones_rural_2018', 'num_phones_urban_2019'] # количество телефонов в разбивке по городским и сельским районам\n",
        "BAS_TRAVEL = ['bus_march_travel_18', 'bus_april_travel_18'] # пассажирооборот автобусов по маршрутам регулярных перевозок (тысяча пассажиро-километров)\n",
        "ENVIROMENTAL_SAFETY = ['epirank_avia', 'epirank_bus', 'epirank_train', 'epirank_avia_cat', \n",
        "                       'epirank_bus_cat', 'epirank_train_cat'] # рейтинг экологической безопасности, индекс epirank\n",
        "\n",
        "\n",
        "# Cat features\n",
        "DISTRICT = ['district'] # Округ\n",
        "SUBJECT = ['subject'] # Регион\n",
        "TOWN = ['name'] # Город\n",
        "REGION = ['region_x']"
      ]
    },
    {
      "cell_type": "code",
      "execution_count": null,
      "metadata": {
        "id": "ly4jyLMDxbFX"
      },
      "outputs": [],
      "source": [
        "added_features = ['income_passengers']\n",
        "\n",
        "float_features = LAT_LNG + URBAN_RURAL + POPULATION + DENSITY \\\n",
        "                 + RATINGS + VENTILATOR + WEATHER + RESIDENTS_AGE + POPULATION_WORK \\\n",
        "                 + HISTORICAL_TUBERCUL + ECONOMIC_VALUE + NUM_PHONES + BAS_TRAVEL \\\n",
        "                 + ENVIROMENTAL_SAFETY # + DISTRICT + REGION + added_features"
      ]
    },
    {
      "cell_type": "markdown",
      "metadata": {
        "id": "ee9DCrqHrlrK"
      },
      "source": [
        "## Validation\n"
      ]
    },
    {
      "cell_type": "code",
      "execution_count": null,
      "metadata": {
        "id": "nA8WvXiquEE6"
      },
      "outputs": [],
      "source": [
        "from sklearn.model_selection import train_test_split, KFold\n",
        "\n",
        "X = df[float_features]\n",
        "y = df[TARGET_COL]\n",
        "\n",
        "\n",
        "X, X_final_test, y, y_final_test = train_test_split(\n",
        "    X, y, test_size=0.05, random_state=432)"
      ]
    },
    {
      "cell_type": "code",
      "execution_count": null,
      "metadata": {
        "id": "nf2lQ7Qm5BJU"
      },
      "outputs": [],
      "source": [
        "from sklearn.linear_model import ElasticNet, Lasso,  BayesianRidge, LassoLarsIC\n",
        "from sklearn.ensemble import RandomForestRegressor,  GradientBoostingRegressor\n",
        "from sklearn.tree import DecisionTreeRegressor\n",
        "from sklearn.neural_network import MLPRegressor\n",
        "from sklearn.neighbors import KNeighborsRegressor, RadiusNeighborsRegressor\n",
        "from sklearn.kernel_ridge import KernelRidge\n",
        "import lightgbm as lgb\n",
        "from sklearn.svm import SVR\n",
        "from sklearn.linear_model import LinearRegression\n",
        "from xgboost import XGBRegressor"
      ]
    },
    {
      "cell_type": "code",
      "execution_count": null,
      "metadata": {
        "id": "za1zVrwBAmzJ"
      },
      "outputs": [],
      "source": [
        "from sklearn.preprocessing import StandardScaler, MinMaxScaler, RobustScaler, MaxAbsScaler"
      ]
    },
    {
      "cell_type": "code",
      "execution_count": null,
      "metadata": {
        "id": "fDfe8vxGwdXE"
      },
      "outputs": [],
      "source": [
        "\n",
        "from sklearn.metrics import mean_absolute_error\n",
        "\n",
        "\n",
        "\n",
        "\n",
        "\n",
        "def run_and_check_models(X_train, X_val, y_train, y_val):\n",
        "\n",
        "  other_models = {\n",
        "    'lasso' : Lasso(alpha =0.005),\n",
        "    'knn5' : KNeighborsRegressor(n_neighbors=5),\n",
        "    'knn3' : KNeighborsRegressor(n_neighbors=3),\n",
        "    'knn2' : KNeighborsRegressor(n_neighbors=2),\n",
        "    'knn7' : KNeighborsRegressor(n_neighbors=7),\n",
        "    'knn1' : KNeighborsRegressor(n_neighbors=1),\n",
        "    'knn1_p1' : KNeighborsRegressor(n_neighbors=1, p=1),\n",
        "    'knn1_p3' : KNeighborsRegressor(n_neighbors=1, p=3),\n",
        "    'knn1_p4' : KNeighborsRegressor(n_neighbors=1, p=4),\n",
        "    'rf' : RandomForestRegressor(),\n",
        "    'rf5' : RandomForestRegressor(max_depth=4),\n",
        "    'tree9' : DecisionTreeRegressor(max_depth=9),\n",
        "    'tree7' : DecisionTreeRegressor(max_depth=7),\n",
        "    'tree' : DecisionTreeRegressor(max_depth=None),\n",
        "    'tree16' : DecisionTreeRegressor(max_depth=16),\n",
        "  }\n",
        "  run_results = {}\n",
        "\n",
        "\n",
        "  scaler = MinMaxScaler()\n",
        "  X_train = scaler.fit_transform(X_train.fillna(0))\n",
        "  X_val = scaler.transform(X_val.fillna(0))\n",
        "  for model_name in other_models.keys():\n",
        "    model = other_models[model_name]\n",
        "    model.fit(X_train, y_train)\n",
        "    preds = model.predict(X_val)\n",
        "    model_mae = mean_absolute_error(y_val,preds)\n",
        "    run_results[model_name] = model_mae\n",
        "\n",
        "\n",
        "\n",
        "  final_model1 = DecisionTreeRegressor(max_depth=None)\n",
        "  final_model2 = KNeighborsRegressor(n_neighbors=1, p=1)\n",
        "  final_model1.fit(X_train, y_train)\n",
        "  final_model2.fit(X_train, y_train)\n",
        "  preds1 = final_model1.predict(X_val) \n",
        "  preds2 = final_model2.predict(X_val).reshape(len(X_val))\n",
        "  preds = (preds1+preds2)/2\n",
        "  model_mae = mean_absolute_error(y_val,preds)\n",
        "  run_results['final_model'] = model_mae\n",
        "  \n",
        "  return run_results"
      ]
    },
    {
      "cell_type": "code",
      "execution_count": null,
      "metadata": {
        "id": "czE8G9p4uSsr"
      },
      "outputs": [],
      "source": [
        "NUM_KFOLD_VALIDATIONS = 3\n",
        "N_SPLITS = 10 \n",
        "\n",
        "results = []\n",
        "for random_state in range(NUM_KFOLD_VALIDATIONS):\n",
        "  kf = KFold(n_splits = N_SPLITS, shuffle = True, random_state = random_state)\n",
        "  kf.get_n_splits(X)\n",
        "  for train_index, test_index in kf.split(X):\n",
        "\n",
        "    X_train, X_val = X.iloc[train_index], X.iloc[test_index]\n",
        "    y_train, y_val = y.iloc[train_index], y.iloc[test_index]\n",
        "\n",
        "    run_results = run_and_check_models(X_train, X_val, y_train, y_val)\n",
        "    results.append(run_results)\n",
        "results = pd.DataFrame(results)"
      ]
    },
    {
      "cell_type": "code",
      "source": [
        "pd.DataFrame(results).mean()"
      ],
      "metadata": {
        "colab": {
          "base_uri": "https://localhost:8080/"
        },
        "id": "i6jM9vStGATL",
        "outputId": "1afe66b6-fe24-4d25-8fb8-7ae8e26f3165"
      },
      "execution_count": null,
      "outputs": [
        {
          "output_type": "execute_result",
          "data": {
            "text/plain": [
              "lasso          0.320318\n",
              "knn5           0.168931\n",
              "knn3           0.095217\n",
              "knn2           0.056388\n",
              "knn7           0.221536\n",
              "knn1           0.034601\n",
              "knn1_p1        0.021086\n",
              "knn1_p3        0.043308\n",
              "knn1_p4        0.055824\n",
              "rf             0.055663\n",
              "rf5            0.200800\n",
              "tree9          0.033550\n",
              "tree7          0.065484\n",
              "tree           0.034201\n",
              "tree16         0.031898\n",
              "final_model    0.024049\n",
              "dtype: float64"
            ]
          },
          "metadata": {},
          "execution_count": 18
        }
      ]
    },
    {
      "cell_type": "markdown",
      "source": [
        "## Final check MAE"
      ],
      "metadata": {
        "id": "CVLFyeNMvv-H"
      }
    },
    {
      "cell_type": "code",
      "source": [
        "run_and_check_models(X, X_final_test, y, y_final_test)"
      ],
      "metadata": {
        "colab": {
          "base_uri": "https://localhost:8080/"
        },
        "id": "es44J1zfvzHL",
        "outputId": "3f53a229-1321-4f83-a7eb-a4f379cf9933"
      },
      "execution_count": null,
      "outputs": [
        {
          "output_type": "execute_result",
          "data": {
            "text/plain": [
              "{'final_model': 0.046706154905320346,\n",
              " 'knn1': 0.0467061549053203,\n",
              " 'knn1_p1': 0.0467061549053203,\n",
              " 'knn1_p3': 0.12902526601298306,\n",
              " 'knn1_p4': 0.12902526601298306,\n",
              " 'knn2': 0.08251752149523159,\n",
              " 'knn3': 0.0901343597884431,\n",
              " 'knn5': 0.15975723924493984,\n",
              " 'knn7': 0.21483030146994656,\n",
              " 'lasso': 0.38737993215999017,\n",
              " 'rf': 0.08363131359313727,\n",
              " 'rf5': 0.22805078285151503,\n",
              " 'tree': 0.04670615490532052,\n",
              " 'tree16': 0.04670615490532052,\n",
              " 'tree7': 0.09320578452080512,\n",
              " 'tree9': 0.04670615490532047}"
            ]
          },
          "metadata": {},
          "execution_count": 19
        }
      ]
    },
    {
      "cell_type": "markdown",
      "source": [
        "## Final test"
      ],
      "metadata": {
        "id": "fgi_hCqpvfYf"
      }
    },
    {
      "cell_type": "code",
      "source": [
        "np.random.seed(42)\n",
        "from sklearn.model_selection import train_test_split, KFold\n",
        "\n",
        "X = df[float_features]\n",
        "X_test = df_test[float_features]\n",
        "y = df[TARGET_COL]\n",
        "\n",
        "\n",
        "final_scaler = MinMaxScaler()\n",
        "X = final_scaler.fit_transform(X)\n",
        "X_test = final_scaler.transform(X_test)\n",
        "\n",
        "\n",
        "final_model1 = DecisionTreeRegressor(max_depth=None, random_state = 42)\n",
        "final_model2 = KNeighborsRegressor(n_neighbors=1, p=1)\n",
        "final_model1.fit(X, y)\n",
        "final_model2.fit(X, y)\n",
        "preds1 = final_model1.predict(X_test) \n",
        "preds2 = final_model2.predict(X_test).reshape(len(X_test))\n",
        "preds = (preds1+preds2)/2\n",
        "df_test['inf_rate'] = preds\n"
      ],
      "metadata": {
        "id": "JZmO8YzivhdY"
      },
      "execution_count": null,
      "outputs": []
    },
    {
      "cell_type": "code",
      "source": [
        "df_test[['Unnamed: 0','inf_rate']].to_csv('pygeeks.csv',index = False)"
      ],
      "metadata": {
        "id": "AAH0ZbAn5zf8"
      },
      "execution_count": null,
      "outputs": []
    },
    {
      "cell_type": "code",
      "source": [
        "df_test[['Unnamed: 0','inf_rate']]"
      ],
      "metadata": {
        "colab": {
          "base_uri": "https://localhost:8080/",
          "height": 424
        },
        "id": "xbE_qLMA6FBV",
        "outputId": "0c2da8e4-9d5b-4361-c0bc-1f43ff57c956"
      },
      "execution_count": null,
      "outputs": [
        {
          "output_type": "execute_result",
          "data": {
            "text/plain": [
              "     Unnamed: 0  inf_rate\n",
              "0           451  2.708050\n",
              "1           452  0.693147\n",
              "2           453  0.693147\n",
              "3           454  1.609438\n",
              "4           455  1.386294\n",
              "..          ...       ...\n",
              "415         899  1.791759\n",
              "416         900  2.564949\n",
              "417         901  0.693147\n",
              "418         902  1.386294\n",
              "419         903  0.693147\n",
              "\n",
              "[420 rows x 2 columns]"
            ],
            "text/html": [
              "\n",
              "  <div id=\"df-8419e901-d11a-46d8-905b-363d143242a0\">\n",
              "    <div class=\"colab-df-container\">\n",
              "      <div>\n",
              "<style scoped>\n",
              "    .dataframe tbody tr th:only-of-type {\n",
              "        vertical-align: middle;\n",
              "    }\n",
              "\n",
              "    .dataframe tbody tr th {\n",
              "        vertical-align: top;\n",
              "    }\n",
              "\n",
              "    .dataframe thead th {\n",
              "        text-align: right;\n",
              "    }\n",
              "</style>\n",
              "<table border=\"1\" class=\"dataframe\">\n",
              "  <thead>\n",
              "    <tr style=\"text-align: right;\">\n",
              "      <th></th>\n",
              "      <th>Unnamed: 0</th>\n",
              "      <th>inf_rate</th>\n",
              "    </tr>\n",
              "  </thead>\n",
              "  <tbody>\n",
              "    <tr>\n",
              "      <th>0</th>\n",
              "      <td>451</td>\n",
              "      <td>2.708050</td>\n",
              "    </tr>\n",
              "    <tr>\n",
              "      <th>1</th>\n",
              "      <td>452</td>\n",
              "      <td>0.693147</td>\n",
              "    </tr>\n",
              "    <tr>\n",
              "      <th>2</th>\n",
              "      <td>453</td>\n",
              "      <td>0.693147</td>\n",
              "    </tr>\n",
              "    <tr>\n",
              "      <th>3</th>\n",
              "      <td>454</td>\n",
              "      <td>1.609438</td>\n",
              "    </tr>\n",
              "    <tr>\n",
              "      <th>4</th>\n",
              "      <td>455</td>\n",
              "      <td>1.386294</td>\n",
              "    </tr>\n",
              "    <tr>\n",
              "      <th>...</th>\n",
              "      <td>...</td>\n",
              "      <td>...</td>\n",
              "    </tr>\n",
              "    <tr>\n",
              "      <th>415</th>\n",
              "      <td>899</td>\n",
              "      <td>1.791759</td>\n",
              "    </tr>\n",
              "    <tr>\n",
              "      <th>416</th>\n",
              "      <td>900</td>\n",
              "      <td>2.564949</td>\n",
              "    </tr>\n",
              "    <tr>\n",
              "      <th>417</th>\n",
              "      <td>901</td>\n",
              "      <td>0.693147</td>\n",
              "    </tr>\n",
              "    <tr>\n",
              "      <th>418</th>\n",
              "      <td>902</td>\n",
              "      <td>1.386294</td>\n",
              "    </tr>\n",
              "    <tr>\n",
              "      <th>419</th>\n",
              "      <td>903</td>\n",
              "      <td>0.693147</td>\n",
              "    </tr>\n",
              "  </tbody>\n",
              "</table>\n",
              "<p>420 rows × 2 columns</p>\n",
              "</div>\n",
              "      <button class=\"colab-df-convert\" onclick=\"convertToInteractive('df-8419e901-d11a-46d8-905b-363d143242a0')\"\n",
              "              title=\"Convert this dataframe to an interactive table.\"\n",
              "              style=\"display:none;\">\n",
              "        \n",
              "  <svg xmlns=\"http://www.w3.org/2000/svg\" height=\"24px\"viewBox=\"0 0 24 24\"\n",
              "       width=\"24px\">\n",
              "    <path d=\"M0 0h24v24H0V0z\" fill=\"none\"/>\n",
              "    <path d=\"M18.56 5.44l.94 2.06.94-2.06 2.06-.94-2.06-.94-.94-2.06-.94 2.06-2.06.94zm-11 1L8.5 8.5l.94-2.06 2.06-.94-2.06-.94L8.5 2.5l-.94 2.06-2.06.94zm10 10l.94 2.06.94-2.06 2.06-.94-2.06-.94-.94-2.06-.94 2.06-2.06.94z\"/><path d=\"M17.41 7.96l-1.37-1.37c-.4-.4-.92-.59-1.43-.59-.52 0-1.04.2-1.43.59L10.3 9.45l-7.72 7.72c-.78.78-.78 2.05 0 2.83L4 21.41c.39.39.9.59 1.41.59.51 0 1.02-.2 1.41-.59l7.78-7.78 2.81-2.81c.8-.78.8-2.07 0-2.86zM5.41 20L4 18.59l7.72-7.72 1.47 1.35L5.41 20z\"/>\n",
              "  </svg>\n",
              "      </button>\n",
              "      \n",
              "  <style>\n",
              "    .colab-df-container {\n",
              "      display:flex;\n",
              "      flex-wrap:wrap;\n",
              "      gap: 12px;\n",
              "    }\n",
              "\n",
              "    .colab-df-convert {\n",
              "      background-color: #E8F0FE;\n",
              "      border: none;\n",
              "      border-radius: 50%;\n",
              "      cursor: pointer;\n",
              "      display: none;\n",
              "      fill: #1967D2;\n",
              "      height: 32px;\n",
              "      padding: 0 0 0 0;\n",
              "      width: 32px;\n",
              "    }\n",
              "\n",
              "    .colab-df-convert:hover {\n",
              "      background-color: #E2EBFA;\n",
              "      box-shadow: 0px 1px 2px rgba(60, 64, 67, 0.3), 0px 1px 3px 1px rgba(60, 64, 67, 0.15);\n",
              "      fill: #174EA6;\n",
              "    }\n",
              "\n",
              "    [theme=dark] .colab-df-convert {\n",
              "      background-color: #3B4455;\n",
              "      fill: #D2E3FC;\n",
              "    }\n",
              "\n",
              "    [theme=dark] .colab-df-convert:hover {\n",
              "      background-color: #434B5C;\n",
              "      box-shadow: 0px 1px 3px 1px rgba(0, 0, 0, 0.15);\n",
              "      filter: drop-shadow(0px 1px 2px rgba(0, 0, 0, 0.3));\n",
              "      fill: #FFFFFF;\n",
              "    }\n",
              "  </style>\n",
              "\n",
              "      <script>\n",
              "        const buttonEl =\n",
              "          document.querySelector('#df-8419e901-d11a-46d8-905b-363d143242a0 button.colab-df-convert');\n",
              "        buttonEl.style.display =\n",
              "          google.colab.kernel.accessAllowed ? 'block' : 'none';\n",
              "\n",
              "        async function convertToInteractive(key) {\n",
              "          const element = document.querySelector('#df-8419e901-d11a-46d8-905b-363d143242a0');\n",
              "          const dataTable =\n",
              "            await google.colab.kernel.invokeFunction('convertToInteractive',\n",
              "                                                     [key], {});\n",
              "          if (!dataTable) return;\n",
              "\n",
              "          const docLinkHtml = 'Like what you see? Visit the ' +\n",
              "            '<a target=\"_blank\" href=https://colab.research.google.com/notebooks/data_table.ipynb>data table notebook</a>'\n",
              "            + ' to learn more about interactive tables.';\n",
              "          element.innerHTML = '';\n",
              "          dataTable['output_type'] = 'display_data';\n",
              "          await google.colab.output.renderOutput(dataTable, element);\n",
              "          const docLink = document.createElement('div');\n",
              "          docLink.innerHTML = docLinkHtml;\n",
              "          element.appendChild(docLink);\n",
              "        }\n",
              "      </script>\n",
              "    </div>\n",
              "  </div>\n",
              "  "
            ]
          },
          "metadata": {},
          "execution_count": 22
        }
      ]
    }
  ],
  "metadata": {
    "colab": {
      "collapsed_sections": [],
      "name": "pipeline.ipynb",
      "provenance": []
    },
    "gpuClass": "standard",
    "kernelspec": {
      "display_name": "Python 3",
      "name": "python3"
    },
    "language_info": {
      "name": "python"
    }
  },
  "nbformat": 4,
  "nbformat_minor": 0
}